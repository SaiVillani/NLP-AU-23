{
 "cells": [
  {
   "cell_type": "markdown",
   "id": "1c6701f8-424e-4dbb-a208-59f232970940",
   "metadata": {},
   "source": [
    "# Classroom 3 - Working with word embeddings"
   ]
  },
  {
   "cell_type": "markdown",
   "id": "3d5374aa-257e-4ec3-add4-cbe26f926350",
   "metadata": {},
   "source": [
    "So far we've seen a couple of key Python libraries for doing specific tasks in NLP. For example, ```scikit-learn``` provides a whole host of fundamental machine learning algortithms; ```spaCy``` allows us to do robust linguistic analysis; ```huggingface``` is the place to go for pretrained models (more on that in coming weeks); ```pytorch``` is the best framework for building complex deep learning models.\n",
    "\n",
    "Today, we're going to meet ```gensim``` which is the best way to work with (static) word embeddings like word2vec. You can find the documentation [here](https://radimrehurek.com/gensim/)."
   ]
  },
  {
   "cell_type": "code",
   "execution_count": 2,
   "id": "377bfa0c-a4fc-4b31-9e20-aeba254db6d5",
   "metadata": {
    "execution": {
     "iopub.execute_input": "2022-10-13T11:26:12.530529Z",
     "iopub.status.busy": "2022-10-13T11:26:12.529804Z",
     "iopub.status.idle": "2022-10-13T11:26:13.556862Z",
     "shell.execute_reply": "2022-10-13T11:26:13.555130Z",
     "shell.execute_reply.started": "2022-10-13T11:26:12.530471Z"
    },
    "tags": []
   },
   "outputs": [],
   "source": [
    "import gensim\n",
    "import gensim.downloader\n",
    "import matplotlib.pyplot as plt\n",
    "from sklearn.decomposition import TruncatedSVD\n",
    "from sklearn.decomposition import PCA"
   ]
  },
  {
   "cell_type": "markdown",
   "id": "9d11e678-a148-42f4-983d-e71e2a5fa9ab",
   "metadata": {},
   "source": [
    "## Choose a language\n",
    "\n",
    "I've downloaded a number of pretrained word2vec models for different languages. Feel free to experiment with a couple (or with other models, if you want to download more: you can also download FastText embeddings: https://fasttext.cc/), but make sure to use different variable names for the models.\n",
    "\n",
    "NB: The English embeddings are 300d; all other word2vec models here are 100d. Notice also that different word2vec models are loaded in different ways. This is due to way that they were saved after training - the saved formats are not consistently the same.\n",
    "\n",
    "**Note**: depending on where your notebook is located, you may need to change the paths!"
   ]
  },
  {
   "cell_type": "code",
   "execution_count": 3,
   "id": "2ed41b0a-a40c-4bc5-b98a-e87d79c05d0a",
   "metadata": {
    "execution": {
     "iopub.execute_input": "2022-10-13T11:26:15.090456Z",
     "iopub.status.busy": "2022-10-13T11:26:15.089708Z",
     "iopub.status.idle": "2022-10-13T11:26:17.622369Z",
     "shell.execute_reply": "2022-10-13T11:26:17.620582Z",
     "shell.execute_reply.started": "2022-10-13T11:26:15.090393Z"
    },
    "tags": []
   },
   "outputs": [],
   "source": [
    "# Danish embeddings https://korpus.dsl.dk/resources/details/word2vec.html\n",
    "#model = gensim.models.KeyedVectors.load_word2vec_format(\"models/danish.bin\", binary=True)\n",
    "\n",
    "# Polish embeddings https://github.com/sdadas/polish-nlp-resources#word2vec\n",
    "#model = gensim.models.KeyedVectors.load(\"models/polish/model.bin\")\n",
    "\n",
    "# English embeddings http://vectors.nlpl.eu/repository/ (English CoNLL17 corpus)\n",
    "model = gensim.models.KeyedVectors.load_word2vec_format(\"/work/models/english/model.bin\", binary=True)"
   ]
  },
  {
   "cell_type": "markdown",
   "id": "ebf79327-ffe5-43ba-8f09-3ee8e4ec3c95",
   "metadata": {},
   "source": [
    "I've outlined a couple of tasks for you below to experiment with. Use these just a stepping off points to explore the nature of word embeddings and how they work.\n",
    "\n",
    "Work in small groups on these tasks and make sure to discuss the issues and compare results - preferably across languages!"
   ]
  },
  {
   "cell_type": "markdown",
   "id": "6d604e11-9b07-4d12-b10f-3309484819fa",
   "metadata": {},
   "source": [
    "### Task 1: Finding polysemy\n",
    "\n",
    "Find a polysemous word (for example, \"leaves\" or \"scoop\") such that the top-10 most similar words (according to cosine similarity) contains related words from both meanings. An example is given for you below in English. \n",
    "\n",
    "Are there certain words for which polysemy is more of a problem?"
   ]
  },
  {
   "cell_type": "code",
   "execution_count": 4,
   "id": "2cd074b4-23ee-4d70-afc8-db85bd53e904",
   "metadata": {
    "execution": {
     "iopub.execute_input": "2022-10-13T11:26:39.457702Z",
     "iopub.status.busy": "2022-10-13T11:26:39.457000Z",
     "iopub.status.idle": "2022-10-13T11:26:39.620121Z",
     "shell.execute_reply": "2022-10-13T11:26:39.618193Z",
     "shell.execute_reply.started": "2022-10-13T11:26:39.457645Z"
    },
    "tags": []
   },
   "outputs": [
    {
     "data": {
      "text/plain": [
       "[('because', 0.8715956211090088),\n",
       " ('but', 0.870654284954071),\n",
       " ('that.given', 0.8345639705657959),\n",
       " ('had—that', 0.8316430449485779),\n",
       " ('cannot.the', 0.829365611076355),\n",
       " ('actually', 0.8281437158584595),\n",
       " ('either—the', 0.8243577480316162),\n",
       " ('of—but', 0.8218991756439209),\n",
       " ('doing—it', 0.8216802477836609),\n",
       " ('knew—that', 0.82088702917099)]"
      ]
     },
     "execution_count": 4,
     "metadata": {},
     "output_type": "execute_result"
    }
   ],
   "source": [
    "#model.most_similar(\"leaves\")\n",
    "#model.most_similar('vehicle')\n",
    "#mispellings of the word\n",
    "#model.most_similar('love')\n",
    "model.most_similar('that')"
   ]
  },
  {
   "cell_type": "markdown",
   "id": "fb5259ff",
   "metadata": {},
   "source": [
    "why are some of these dotted or hyphenated?"
   ]
  },
  {
   "cell_type": "markdown",
   "id": "4a78f14e-45b0-4538-ae54-ffeb01836618",
   "metadata": {},
   "source": [
    "### Task 2: Synonyms and antonyms\n",
    "\n",
    "In the lecture, we saw that _cosine similarity_ can also be thought of as _cosine distance_, which is simply ```1 - cosine similarity```. So the higher the cosine distance, the further away two words are from each other and so they have less \"in common\".\n",
    "\n",
    "Find three words ```(w1,w2,w3)``` where ```w1``` and ```w2``` are synonyms and ```w1``` and ```w3``` are antonyms, but where: \n",
    "\n",
    "```Cosine Distance(w1,w3) < Cosine Distance(w1,w2)```\n",
    "\n",
    "For example, w1=\"happy\" is closer to w3=\"sad\" than to w2=\"cheerful\".\n",
    "\n",
    "Once you have found your example, please give a possible explanation for why this counter-intuitive result may have happened. Are there any inconsistencies?\n",
    "\n",
    "You should use the the ```model.distance(w1, w2)``` function here in order to compute the cosine distance between two words. I've given a starting example below."
   ]
  },
  {
   "cell_type": "code",
   "execution_count": 5,
   "id": "8b476719-0cc1-4da2-bdd9-98bd22bd48e2",
   "metadata": {
    "execution": {
     "iopub.execute_input": "2022-10-13T11:28:51.002030Z",
     "iopub.status.busy": "2022-10-13T11:28:51.001364Z",
     "iopub.status.idle": "2022-10-13T11:28:51.012787Z",
     "shell.execute_reply": "2022-10-13T11:28:51.011701Z",
     "shell.execute_reply.started": "2022-10-13T11:28:51.001973Z"
    },
    "tags": []
   },
   "outputs": [
    {
     "data": {
      "text/plain": [
       "0.3010486960411072"
      ]
     },
     "execution_count": 5,
     "metadata": {},
     "output_type": "execute_result"
    }
   ],
   "source": [
    "model.distance(\"happy\", \"sad\")\n",
    "#w1 and w3"
   ]
  },
  {
   "cell_type": "code",
   "execution_count": 6,
   "id": "72d9efe2-809f-4944-9e6d-a9c735ccc4ff",
   "metadata": {
    "execution": {
     "iopub.execute_input": "2022-10-13T11:28:36.667432Z",
     "iopub.status.busy": "2022-10-13T11:28:36.666728Z",
     "iopub.status.idle": "2022-10-13T11:28:36.677467Z",
     "shell.execute_reply": "2022-10-13T11:28:36.676303Z",
     "shell.execute_reply.started": "2022-10-13T11:28:36.667375Z"
    },
    "tags": []
   },
   "outputs": [
    {
     "data": {
      "text/plain": [
       "0.2960309386253357"
      ]
     },
     "execution_count": 6,
     "metadata": {},
     "output_type": "execute_result"
    }
   ],
   "source": [
    "model.distance(\"happy\",\"cheerful\")\n",
    "#w1 and w2"
   ]
  },
  {
   "cell_type": "code",
   "execution_count": 7,
   "id": "6ed87ba7-851c-42bb-91a1-0033c6ebaa79",
   "metadata": {},
   "outputs": [
    {
     "data": {
      "text/plain": [
       "False"
      ]
     },
     "execution_count": 7,
     "metadata": {},
     "output_type": "execute_result"
    }
   ],
   "source": [
    "model.distance(\"happy\", \"sad\") < model.distance(\"happy\",\"cheerful\")\n",
    "#w1/w3 should be closer than w1/w2"
   ]
  },
  {
   "cell_type": "code",
   "execution_count": 8,
   "metadata": {},
   "outputs": [
    {
     "name": "stdout",
     "output_type": "stream",
     "text": [
      "0.4143396019935608 0.21056902408599854\n",
      "True\n"
     ]
    }
   ],
   "source": [
    "synonym = model.distance(\"fast\",\"quick\")\n",
    "#quickly is worse - I think that fast and slow might co-occur more often than fast and quick.\n",
    "antonym = model.distance(\"fast\",\"slow\")\n",
    "print(synonym, antonym)\n",
    "print(antonym<synonym)"
   ]
  },
  {
   "cell_type": "code",
   "execution_count": 37,
   "id": "d06ce8ee",
   "metadata": {},
   "outputs": [
    {
     "name": "stdout",
     "output_type": "stream",
     "text": [
      "0.809323713183403 0.5036187767982483\n",
      "True\n"
     ]
    }
   ],
   "source": [
    "synonym = model.distance(\"fast\",\"secured\")\n",
    "#quickly is worse - I think that fast and slow might co-occur more often than fast and quick.\n",
    "antonym = model.distance(\"fast\",\"loose\")\n",
    "print(synonym, antonym)\n",
    "print(antonym<synonym)"
   ]
  },
  {
   "cell_type": "markdown",
   "id": "86210994-55e0-4ef1-99c8-9345e297cbc9",
   "metadata": {},
   "source": [
    "### Task 3: Word analogies\n",
    "\n",
    "We saw in the lecture on Wednesday that we can use basic arithmetic on word embeddings, in order to conduct word analogy task.\n",
    "\n",
    "For example:\n",
    "\n",
    "```man::king as woman::queen```\n",
    "\n",
    "So we can say that if we take the vector for ```king``` and subtract the vector for ```man```, we're removing the gender component from the ```king```. If we then add ```woman``` to the resulting vector, we should be left with a vector similar to ```queen```.\n",
    "\n",
    "NB: It might not be _exactly_ the vector for ```queen```, but it should at least be _close_ to it.\n",
    "\n",
    "```gensim``` has some quirky syntax that allows us to perform this kind of arithmetic."
   ]
  },
  {
   "cell_type": "code",
   "execution_count": 38,
   "id": "e97f38cc-a6a6-4d54-a0ef-97b90bef4140",
   "metadata": {
    "execution": {
     "iopub.execute_input": "2022-10-13T11:37:01.747364Z",
     "iopub.status.busy": "2022-10-13T11:37:01.746670Z",
     "iopub.status.idle": "2022-10-13T11:37:01.859900Z",
     "shell.execute_reply": "2022-10-13T11:37:01.858453Z",
     "shell.execute_reply.started": "2022-10-13T11:37:01.747307Z"
    },
    "tags": []
   },
   "outputs": [
    {
     "data": {
      "text/plain": [
       "('queen', 0.8487650752067566)"
      ]
     },
     "execution_count": 38,
     "metadata": {},
     "output_type": "execute_result"
    }
   ],
   "source": [
    "model.most_similar(positive=['king', 'woman'], \n",
    "                   negative=['man'])[0]"
   ]
  },
  {
   "cell_type": "code",
   "execution_count": 45,
   "id": "32a1811e",
   "metadata": {},
   "outputs": [
    {
     "data": {
      "text/plain": [
       "('paddleboat', 0.6847198605537415)"
      ]
     },
     "execution_count": 45,
     "metadata": {},
     "output_type": "execute_result"
    }
   ],
   "source": [
    "model.most_similar(positive=['bicycle', 'motorboat'], \n",
    "                   negative=['motorcycle'])[0]"
   ]
  },
  {
   "cell_type": "code",
   "execution_count": 80,
   "id": "bf990060",
   "metadata": {},
   "outputs": [
    {
     "data": {
      "text/plain": [
       "[('lesbian', 0.8633692264556885),\n",
       " ('bisexual', 0.8379812240600586),\n",
       " ('bisexuals', 0.8139052391052246),\n",
       " ('transgender', 0.7963111400604248),\n",
       " ('transgendered', 0.7935426831245422),\n",
       " ('lesbians', 0.7905576825141907),\n",
       " ('transsexual', 0.7843927145004272),\n",
       " ('trangender', 0.7741043567657471),\n",
       " ('gays', 0.7651443481445312),\n",
       " ('sex', 0.7540552616119385)]"
      ]
     },
     "execution_count": 80,
     "metadata": {},
     "output_type": "execute_result"
    }
   ],
   "source": [
    "model.most_similar(positive=['gay', 'woman'], \n",
    "                   negative=['man'])"
   ]
  },
  {
   "cell_type": "markdown",
   "id": "46a8a954-4feb-4b5e-894b-f530d9bf96de",
   "metadata": {},
   "source": [
    "Try to find at least three analogies which correctly hold - where \"correctly\" here means that the closest vector corresponds to the word that you as a native speaker think it should."
   ]
  },
  {
   "cell_type": "markdown",
   "id": "6632d94f-d2c1-4bfb-aaf8-92c2a26c2fab",
   "metadata": {},
   "source": [
    "### Task 3b: Wrong analogies\n",
    "\n",
    "Can you find any analogies which _should_ hold but don't? Why don't they work? Are there any similarities or trends?"
   ]
  },
  {
   "cell_type": "code",
   "execution_count": 15,
   "id": "9e8721d5-1b49-4f67-89dc-cdea12114722",
   "metadata": {},
   "outputs": [
    {
     "data": {
      "text/plain": [
       "[('cat', 0.6739777326583862),\n",
       " ('rottweiller', 0.6712355613708496),\n",
       " ('boy', 0.6695107817649841),\n",
       " ('dog.', 0.6677136421203613),\n",
       " ('hound', 0.6670961380004883),\n",
       " ('kitten', 0.6606382131576538),\n",
       " ('dogs', 0.6588680148124695),\n",
       " ('rottweiler', 0.6546984910964966),\n",
       " ('rotweiler', 0.6517180800437927),\n",
       " ('beardie', 0.6505522131919861)]"
      ]
     },
     "execution_count": 15,
     "metadata": {},
     "output_type": "execute_result"
    }
   ],
   "source": [
    "model.most_similar(positive=['man', 'dog'], \n",
    "                   negative=['hand'])\n",
    "#Looking for a paw but instead I get valleyvet.com"
   ]
  },
  {
   "cell_type": "code",
   "execution_count": 14,
   "id": "3019f8e5",
   "metadata": {},
   "outputs": [
    {
     "data": {
      "text/plain": [
       "[('boy', 0.6586164236068726),\n",
       " ('cat', 0.6583062410354614),\n",
       " ('raccoon', 0.6537667512893677),\n",
       " ('summerween', 0.6517587304115295),\n",
       " ('dog', 0.6458470821380615),\n",
       " ('wolf', 0.6356406211853027),\n",
       " ('turtleman', 0.6341317892074585),\n",
       " ('kitten', 0.6284036636352539),\n",
       " ('rottweiller', 0.625844419002533),\n",
       " ('truckie', 0.6240168213844299)]"
      ]
     },
     "execution_count": 14,
     "metadata": {},
     "output_type": "execute_result"
    }
   ],
   "source": [
    "model.most_similar(positive=['man', 'paw'], \n",
    "                   negative=['hand'])\n",
    "#Looking for a dog but instead I get boy if paw, or cat if dog"
   ]
  },
  {
   "cell_type": "markdown",
   "id": "378e672c-9140-49b6-91fa-f8d5364a91f6",
   "metadata": {},
   "source": [
    "### Task 4: Exploring bias"
   ]
  },
  {
   "cell_type": "markdown",
   "id": "217f907d-5ecb-4f8a-93b1-e4c19f67e3d0",
   "metadata": {},
   "source": [
    "As we spoke briefly about in the lecture, word embeddings tend to display bias of the kind found in the training data.\n",
    "\n",
    "Using some of the techniques you've worked on above, can you find some clear instances of bias in the word embedding models that you're exploring"
   ]
  },
  {
   "cell_type": "code",
   "execution_count": 52,
   "id": "22b2caac-f064-4ee8-8cc4-c81690da786a",
   "metadata": {
    "execution": {
     "iopub.execute_input": "2022-10-13T11:38:45.594622Z",
     "iopub.status.busy": "2022-10-13T11:38:45.593924Z",
     "iopub.status.idle": "2022-10-13T11:38:45.707115Z",
     "shell.execute_reply": "2022-10-13T11:38:45.705573Z",
     "shell.execute_reply.started": "2022-10-13T11:38:45.594565Z"
    },
    "tags": []
   },
   "outputs": [
    {
     "data": {
      "text/plain": [
       "[('-midwife', 0.7573870420455933),\n",
       " ('gynaecologist', 0.7477126717567444),\n",
       " ('gynecologist', 0.7410730719566345),\n",
       " ('nurse', 0.7368021607398987),\n",
       " ('doctor.the', 0.7195480465888977),\n",
       " ('obstetrician', 0.7183918356895447),\n",
       " ('pediatrician', 0.7132769823074341),\n",
       " ('condition.0conditions', 0.7062807083129883),\n",
       " ('neonatologist', 0.706067681312561),\n",
       " ('perinatologist', 0.7058011293411255)]"
      ]
     },
     "execution_count": 52,
     "metadata": {},
     "output_type": "execute_result"
    }
   ],
   "source": [
    "model.most_similar(positive=['doctor', 'woman'], \n",
    "                   negative=['man'])"
   ]
  },
  {
   "cell_type": "code",
   "execution_count": 94,
   "id": "4d390e67",
   "metadata": {},
   "outputs": [
    {
     "data": {
      "text/plain": [
       "[('supermodel', 0.7735233306884766),\n",
       " ('playmate', 0.7681624889373779),\n",
       " ('cybergirl', 0.7495657205581665),\n",
       " ('topless', 0.7425078749656677),\n",
       " ('playgirl', 0.7410908341407776),\n",
       " ('fhm', 0.7387485504150391),\n",
       " ('non-nude', 0.7331403493881226),\n",
       " ('centrefold', 0.7326515316963196),\n",
       " ('glamour', 0.7265859842300415),\n",
       " ('centerfolds', 0.7242635488510132)]"
      ]
     },
     "execution_count": 94,
     "metadata": {},
     "output_type": "execute_result"
    }
   ],
   "source": [
    "model.most_similar(positive=['playboy', 'woman'], \n",
    "                   negative=['man'])"
   ]
  },
  {
   "cell_type": "code",
   "execution_count": 9,
   "id": "dff02b1d",
   "metadata": {},
   "outputs": [
    {
     "data": {
      "text/plain": [
       "[('women', 0.8555697202682495),\n",
       " ('ladies', 0.7257342338562012),\n",
       " ('basketballwith', 0.7249894142150879),\n",
       " ('basketballthis', 0.7184279561042786),\n",
       " ('basketballfirst', 0.7170976400375366),\n",
       " ('basketballit', 0.7102647423744202),\n",
       " ('basketballlong', 0.7100921869277954),\n",
       " ('golfucd', 0.703833281993866),\n",
       " ('arider', 0.7035523056983948),\n",
       " ('lacrosee', 0.7031422257423401)]"
      ]
     },
     "execution_count": 9,
     "metadata": {},
     "output_type": "execute_result"
    }
   ],
   "source": [
    "model.most_similar(positive=['boss', 'men'], \n",
    "                   negative=['dogs'])"
   ]
  },
  {
   "cell_type": "code",
   "execution_count": 59,
   "id": "d2a61f0c",
   "metadata": {},
   "outputs": [
    {
     "data": {
      "text/plain": [
       "[('grid?', 0.6275207996368408),\n",
       " ('wearable', 0.620499849319458),\n",
       " ('byot', 0.6185249090194702),\n",
       " ('inventionsthese', 0.6166945695877075),\n",
       " ('savvy', 0.6160975694656372),\n",
       " ('-cribs', 0.6042271852493286),\n",
       " ('cellphone', 0.6037181615829468),\n",
       " ('butterfleye', 0.6023670434951782),\n",
       " ('etextile', 0.6022191643714905),\n",
       " ('generationhow', 0.600834310054779)]"
      ]
     },
     "execution_count": 59,
     "metadata": {},
     "output_type": "execute_result"
    }
   ],
   "source": [
    "model.most_similar(positive=['smart', 'woman'], \n",
    "                   negative=['man'])"
   ]
  },
  {
   "cell_type": "code",
   "execution_count": 60,
   "id": "a837af46",
   "metadata": {},
   "outputs": [
    {
     "data": {
      "text/plain": [
       "[('supersmart', 0.7036199569702148),\n",
       " ('hackable', 0.6704420447349548),\n",
       " ('intelligent', 0.6672031879425049),\n",
       " ('-smart', 0.6650131940841675),\n",
       " ('alecs', 0.6512063145637512),\n",
       " ('smarter', 0.6500765681266785),\n",
       " ('flipit', 0.6437731385231018),\n",
       " ('-duper', 0.6418091058731079),\n",
       " ('gamesmart', 0.640759289264679),\n",
       " ('anonabox', 0.6372296214103699)]"
      ]
     },
     "execution_count": 60,
     "metadata": {},
     "output_type": "execute_result"
    }
   ],
   "source": [
    "model.most_similar(positive=['smart', 'man'], \n",
    "                   negative=['woman'])"
   ]
  },
  {
   "cell_type": "code",
   "execution_count": 96,
   "id": "bfc3b49f",
   "metadata": {},
   "outputs": [
    {
     "data": {
      "text/plain": [
       "[('boyfriend', 0.7323639392852783),\n",
       " ('ex-model', 0.69843989610672),\n",
       " ('conwoman', 0.6895022988319397),\n",
       " ('/girlfriend', 0.6881799101829529),\n",
       " ('greenhugo', 0.6881262063980103),\n",
       " ('=blossom', 0.6866325736045837),\n",
       " ('ex-stripper', 0.686596155166626),\n",
       " ('cabonna', 0.6846809983253479),\n",
       " ('-beau', 0.6834768056869507),\n",
       " ('ponytale', 0.683189868927002)]"
      ]
     },
     "execution_count": 96,
     "metadata": {},
     "output_type": "execute_result"
    }
   ],
   "source": [
    "model.most_similar(positive=['boss', 'woman'], \n",
    "                   negative=['man'])"
   ]
  },
  {
   "cell_type": "code",
   "execution_count": 57,
   "id": "90618649",
   "metadata": {},
   "outputs": [
    {
     "data": {
      "text/plain": [
       "[('stupid', 0.7845807671546936),\n",
       " ('bitchy', 0.7520690560340881),\n",
       " ('unfuckable', 0.7511622905731201),\n",
       " ('clueless', 0.747118353843689),\n",
       " ('inmature', 0.7438068389892578),\n",
       " ('prudish', 0.7414817810058594),\n",
       " ('sexist', 0.7409456372261047),\n",
       " ('imature', 0.7390269041061401),\n",
       " ('whiny', 0.7385411858558655),\n",
       " ('judgey', 0.7323862910270691)]"
      ]
     },
     "execution_count": 57,
     "metadata": {},
     "output_type": "execute_result"
    }
   ],
   "source": [
    "model.most_similar(positive=['dumb', 'woman'], \n",
    "                   negative=['man'])"
   ]
  },
  {
   "cell_type": "code",
   "execution_count": 58,
   "id": "ec514928",
   "metadata": {},
   "outputs": [
    {
     "data": {
      "text/plain": [
       "[('stupid', 0.8200381994247437),\n",
       " ('goddamn', 0.7628799080848694),\n",
       " ('moronic', 0.7511630058288574),\n",
       " ('damn', 0.7503824234008789),\n",
       " ('idiotic', 0.7501398324966431),\n",
       " (\"f'ing\", 0.749193012714386),\n",
       " ('chickenshit', 0.7454668283462524),\n",
       " ('goddamned', 0.7420486807823181),\n",
       " ('shitty', 0.7416542172431946),\n",
       " ('friggin', 0.7384757995605469)]"
      ]
     },
     "execution_count": 58,
     "metadata": {},
     "output_type": "execute_result"
    }
   ],
   "source": [
    "model.most_similar(positive=['dumb', 'man'], \n",
    "                   negative=['woman'])"
   ]
  },
  {
   "cell_type": "code",
   "execution_count": 93,
   "id": "2bada4ca",
   "metadata": {},
   "outputs": [
    {
     "data": {
      "text/plain": [
       "[('playgirl', 0.8472689390182495),\n",
       " ('centerfolds', 0.8144791126251221),\n",
       " ('playmate', 0.8049212098121643),\n",
       " ('centrefold', 0.7921157479286194),\n",
       " ('slitz', 0.7841393947601318),\n",
       " ('playguy', 0.77945876121521),\n",
       " ('supermodel', 0.7782590985298157),\n",
       " ('non-nude', 0.7724109292030334),\n",
       " ('celebrity', 0.7711560726165771),\n",
       " ('centrefolds', 0.7622302174568176)]"
      ]
     },
     "execution_count": 93,
     "metadata": {},
     "output_type": "execute_result"
    }
   ],
   "source": [
    "model.most_similar('playboy')"
   ]
  },
  {
   "cell_type": "code",
   "execution_count": 130,
   "id": "613c28aa",
   "metadata": {},
   "outputs": [],
   "source": [
    "def analogy(x1, x2, y1):\n",
    "    result = model.most_similar(positive=[y1, x2], negative=[x1])\n",
    "    return result[0:8][0:8]"
   ]
  },
  {
   "cell_type": "code",
   "execution_count": 131,
   "id": "39c00b79",
   "metadata": {},
   "outputs": [
    {
     "data": {
      "text/plain": [
       "[('stupid', 0.8544390797615051),\n",
       " ('silly', 0.800369143486023),\n",
       " ('whiny', 0.779516875743866),\n",
       " ('digusting', 0.769207239151001),\n",
       " ('whiney', 0.767080545425415),\n",
       " ('ugly', 0.7642194032669067),\n",
       " ('stooopid', 0.763128399848938),\n",
       " ('dumb.', 0.7624905705451965)]"
      ]
     },
     "execution_count": 131,
     "metadata": {},
     "output_type": "execute_result"
    }
   ],
   "source": [
    "analogy('father', 'mother', 'dumb')"
   ]
  },
  {
   "cell_type": "markdown",
   "id": "85c9179c-307a-4c7b-b3a0-6e0316df4f83",
   "metadata": {},
   "source": [
    "### Task 5: Dimensionality reduction and visualizing"
   ]
  },
  {
   "cell_type": "markdown",
   "id": "1419a1e5-a8be-44df-9334-f03dc427122c",
   "metadata": {},
   "source": [
    "In the following cell, I've written a short bit of code which takes a given subset of words and plots them on a simple scatter plot. Remember that the word embeddings are 300d (or 100d here, depending on which language you're using), so we need to perform some kind of dimensionality reduction on the embeddings to get them down to 2D.\n",
    "\n",
    "Here, I'm using a simply PCA algorithm implemented via ```scikit-learn```. An alternative approach might also be to use Singular Value Decomposition or SVD, which works in a similar but ever-so-slightly different way to PCA. You can read more [here](https://jeremykun.com/2016/04/18/singular-value-decomposition-part-1-perspectives-on-linear-algebra/) and [here](https://jonathan-hui.medium.com/machine-learning-singular-value-decomposition-svd-principal-component-analysis-pca-1d45e885e491) - the maths is bit mind-bending, just FYI.\n",
    "\n",
    "Experiment with plotting certain subsets of words by changing the ```words``` list. How useful do you find these plots? Do they show anything meaningful?\n"
   ]
  },
  {
   "cell_type": "code",
   "execution_count": 54,
   "id": "2555a971-2538-416b-b3c6-7c1732893d2b",
   "metadata": {
    "execution": {
     "iopub.execute_input": "2022-10-13T12:10:20.405678Z",
     "iopub.status.busy": "2022-10-13T12:10:20.404976Z",
     "iopub.status.idle": "2022-10-13T12:10:20.570076Z",
     "shell.execute_reply": "2022-10-13T12:10:20.569514Z",
     "shell.execute_reply.started": "2022-10-13T12:10:20.405623Z"
    },
    "tags": []
   },
   "outputs": [
    {
     "data": {
      "image/png": "[encoded data removed]",
      "text/plain": [
       "<Figure size 640x480 with 1 Axes>"
      ]
     },
     "metadata": {},
     "output_type": "display_data"
    }
   ],
   "source": [
    "# the list of words we want to plot\n",
    "words = [\"man\", \"woman\", \"doctor\", \"nurse\", \"king\", \"queen\", \"boy\", \"girl\"]\n",
    "\n",
    "# an empty list for vectors\n",
    "X = []\n",
    "# get vectors for subset of words\n",
    "for word in words:\n",
    "    X.append(model[word])\n",
    "\n",
    "# Use PCA for dimensionality reduction to 2D\n",
    "pca = PCA(n_components=2)\n",
    "result = pca.fit_transform(X)\n",
    "\n",
    "# or try SVD - how are they different?\n",
    "#svd = TruncatedSVD(n_components=2)\n",
    "# fit_transform the initialized PCA model\n",
    "#result = svd.fit_transform(X)\n",
    "\n",
    "# create a scatter plot of the projection\n",
    "plt.scatter(result[:, 0], result[:, 1])\n",
    "\n",
    "# for each word in the list of words\n",
    "for i, word in enumerate(words):\n",
    "    plt.annotate(word, xy=(result[i, 0], result[i, 1]))\n",
    "\n",
    "plt.show()"
   ]
  },
  {
   "cell_type": "markdown",
   "id": "9831a495",
   "metadata": {},
   "source": [
    "### Bonus tasks\n",
    "\n",
    "If you run out of things to explore with these embeddings, try some of the following tasks:\n",
    "\n",
    "[Easier]\n",
    "- make new plots like those above but cleaner and more informative\n",
    "- write a script which takes a list of words and produces the output above\n",
    "  \n",
    "[Very advanced]\n",
    "- work through [this](https://pytorch.org/tutorials/beginner/nlp/word_embeddings_tutorial.html) documentation which demonstrates how to train word embedding using ```pytorch```. Compare this to the training documentation [here](https://radimrehurek.com/gensim/auto_examples/tutorials/run_word2vec.html) and think about how you would train a larger model on your own data."
   ]
  },
  {
   "cell_type": "code",
   "execution_count": 105,
   "id": "b837c1f7",
   "metadata": {},
   "outputs": [],
   "source": [
    "def plotWords(list):\n",
    "    X = []\n",
    "    for word in list:\n",
    "        X.append(model[word])\n",
    "    pca = PCA(n_components=2)\n",
    "    result = pca.fit_transform(X)\n",
    "\n",
    "    plt.scatter(result[:, 0], result[:, 1])\n",
    "\n",
    "    for i, word in enumerate(list):\n",
    "        plt.annotate(word, xy=(result[i, 0], result[i, 1]))\n",
    "\n",
    "    plt.show()"
   ]
  },
  {
   "cell_type": "code",
   "execution_count": 119,
   "id": "ab6f5b3a",
   "metadata": {},
   "outputs": [],
   "source": [
    "words_racist = [\"hispanic\", \"caucasian\", \"africanamerican\", \"asian\",\n",
    "         \"ghetto\", \"poverty\", \"crime\", \"convicted\", \"aggressive\",\n",
    "         \"educated\", \"rich\", \"kind\", \"priviliged\", \"white\", \"black\"]"
   ]
  },
  {
   "cell_type": "code",
   "execution_count": 126,
   "id": "3df3b4b7",
   "metadata": {},
   "outputs": [
    {
     "data": {
      "image/png": "[encoded data removed]",
      "text/plain": [
       "<Figure size 640x480 with 1 Axes>"
      ]
     },
     "metadata": {},
     "output_type": "display_data"
    }
   ],
   "source": [
    "words_pejorative = [\"man\", \"woman\", \"dumb\", \"moron\", \"unfuckable\",\n",
    "\"bitchy\", \"clueless\", \"stupid\", \"chickenshit\", \"lady\", \"gentleman\",\n",
    "\"crazy\", \"bimbo\", \"insane\", \"baby\"]\n",
    "plotWords(words_pejorative)"
   ]
  },
  {
   "cell_type": "code",
   "execution_count": 115,
   "id": "f97db6e1",
   "metadata": {},
   "outputs": [
    {
     "data": {
      "image/png": "[encoded data removed]",
      "text/plain": [
       "<Figure size 600x600 with 1 Axes>"
      ]
     },
     "metadata": {},
     "output_type": "display_data"
    }
   ],
   "source": [
    "import numpy as np\n",
    "\n",
    "def display_pca_scatterplot(model, words=None, sample=0):\n",
    "    if words == None:\n",
    "        if sample > 0:\n",
    "            words = np.random.choice(list(model.vocab.keys()), sample)\n",
    "        else:\n",
    "            words = [ word for word in model.vocab ]\n",
    "        \n",
    "    word_vectors = np.array([model[w] for w in words])\n",
    "\n",
    "    twodim = PCA().fit_transform(word_vectors)[:,:2]\n",
    "    \n",
    "    plt.figure(figsize=(6,6))\n",
    "    plt.scatter(twodim[:,0], twodim[:,1], edgecolors='k', c='r')\n",
    "    for word, (x,y) in zip(words, twodim):\n",
    "        plt.text(x+0.05, y+0.05, word)\n",
    "\n",
    "display_pca_scatterplot(model, \n",
    "                        ['coffee', 'tea', 'beer', 'wine', 'brandy', 'rum', 'champagne', 'water',\n",
    "                         'spaghetti', 'borscht', 'hamburger', 'pizza', 'falafel', 'sushi', 'meatballs',\n",
    "                         'dog', 'horse', 'cat', 'monkey', 'parrot', 'koala', 'lizard',\n",
    "                         'frog', 'toad', 'monkey', 'ape', 'kangaroo', 'wombat', 'wolf',\n",
    "                         'france', 'germany', 'hungary', 'luxembourg', 'australia', 'fiji', 'china',\n",
    "                         'homework', 'assignment', 'problem', 'exam', 'test', 'class',\n",
    "                         'school', 'college', 'university', 'institute'])"
   ]
  }
 ],
 "metadata": {
  "kernelspec": {
   "display_name": "nlp-e23",
   "language": "python",
   "name": "nlp-e23"
  },
  "language_info": {
   "codemirror_mode": {
    "name": "ipython",
    "version": 3
   },
   "file_extension": ".py",
   "mimetype": "text/x-python",
   "name": "python",
   "nbconvert_exporter": "python",
   "pygments_lexer": "ipython3",
   "version": "3.10.12"
  }
 },
 "nbformat": 4,
 "nbformat_minor": 5
}
